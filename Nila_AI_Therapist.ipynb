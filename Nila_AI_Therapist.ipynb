{
  "nbformat": 4,
  "nbformat_minor": 0,
  "metadata": {
    "colab": {
      "provenance": [],
      "authorship_tag": "ABX9TyMPl4xUrYh7txFVVL9xnPk1",
      "include_colab_link": true
    },
    "kernelspec": {
      "name": "python3",
      "display_name": "Python 3"
    },
    "language_info": {
      "name": "python"
    }
  },
  "cells": [
    {
      "cell_type": "markdown",
      "metadata": {
        "id": "view-in-github",
        "colab_type": "text"
      },
      "source": [
        "<a href=\"https://colab.research.google.com/github/mrnithesh/Nila-AI-Therapist/blob/main/Nila_AI_Therapist.ipynb\" target=\"_parent\"><img src=\"https://colab.research.google.com/assets/colab-badge.svg\" alt=\"Open In Colab\"/></a>"
      ]
    },
    {
      "cell_type": "code",
      "source": [
        "!pip install gtts\n",
        "import pathlib\n",
        "import textwrap\n",
        "import google.generativeai as genai\n",
        "from google.colab import userdata\n",
        "from IPython.display import display, Markdown, Audio\n",
        "from gtts import gTTS\n",
        "import io\n",
        "import re\n",
        "\n",
        "def to_markdown(text):\n",
        "    text = text.replace('•', '  *')\n",
        "    return Markdown(textwrap.indent(text, '> ', predicate=lambda _: True))\n",
        "\n",
        "def preprocess_text(text):\n",
        "    \"\"\"Removes special characters like asterisks and hashtags before TTS.\"\"\"\n",
        "    pattern = r\"[^\\w\\s]\"\n",
        "    return re.sub(pattern, \"\", text)\n",
        "\n",
        "def generate_audio(text):\n",
        "    \"\"\"Generate and play TTS audio from text.\"\"\"\n",
        "    # Create an in-memory file-like object\n",
        "    fp = io.BytesIO()\n",
        "    # Generate and write audio to the in-memory file\n",
        "    tts = gTTS(text=text, lang=\"en\")\n",
        "    tts.write_to_fp(fp)\n",
        "    # Seek back to the beginning of the file\n",
        "    fp.seek(0)\n",
        "    # Play the audio using IPython.display.Audio\n",
        "    display(Audio(data=fp.read(), autoplay=True))\n",
        "    # Close the temporary file\n",
        "    fp.close()\n",
        "\n",
        "def convo(query):\n",
        "    response = chat.send_message(query)\n",
        "    updated_response = to_markdown(response.text)\n",
        "    display(updated_response)\n",
        "    # Text-to-speech conversion\n",
        "    text_to_speech = preprocess_text(updated_response.data)\n",
        "    generate_audio(text_to_speech)\n",
        "\n",
        "# Retrieve Google API Key\n",
        "GOOGLE_API_KEY = userdata.get('GOOGLE_API_KEY')\n",
        "genai.configure(api_key=GOOGLE_API_KEY)\n",
        "\n",
        "# Set up the model\n",
        "generation_config = {\n",
        "    \"temperature\": 1,\n",
        "    \"top_p\": 0.95,\n",
        "    \"top_k\": 0,\n",
        "    \"max_output_tokens\": 8192,\n",
        "}\n",
        "\n",
        "safety_settings = [\n",
        "    {\"category\": \"HARM_CATEGORY_HARASSMENT\", \"threshold\": \"BLOCK_MEDIUM_AND_ABOVE\"},\n",
        "    {\"category\": \"HARM_CATEGORY_HATE_SPEECH\", \"threshold\": \"BLOCK_MEDIUM_AND_ABOVE\"},\n",
        "    {\"category\": \"HARM_CATEGORY_SEXUALLY_EXPLICIT\", \"threshold\": \"BLOCK_MEDIUM_AND_ABOVE\"},\n",
        "    {\"category\": \"HARM_CATEGORY_DANGEROUS_CONTENT\", \"threshold\": \"BLOCK_MEDIUM_AND_ABOVE\"},\n",
        "]\n",
        "\n",
        "system_instruction = (\n",
        "    \"Now you are an AI personal relationship and life counselor and a therapist named Nila. \"\n",
        "    \"Act accordingly and give the user advice about their life and personal relationships, \"\n",
        "    \"follow a human tone.\\n\"\n",
        ")\n",
        "\n",
        "model = genai.GenerativeModel(\n",
        "    model_name=\"gemini-1.5-pro-latest\",\n",
        "    generation_config=generation_config,\n",
        "    system_instruction=system_instruction,\n",
        "    safety_settings=safety_settings\n",
        ")\n",
        "\n",
        "chat = model.start_chat(history=[])\n",
        "\n",
        "# Initialize conversation with system instruction\n",
        "convo(system_instruction)\n",
        "\n",
        "# Main interaction loop\n",
        "while True:\n",
        "    query = input(\"What's on your mind? :\")\n",
        "    if query.lower() in {\"exit\", \"quit\", \"bye\"}:\n",
        "        print(\"Goodbye! Have a great day!\")\n",
        "        break\n",
        "    convo(query)\n"
      ],
      "metadata": {
        "id": "58k1GKCkhqWW"
      },
      "execution_count": null,
      "outputs": []
    }
  ]
}